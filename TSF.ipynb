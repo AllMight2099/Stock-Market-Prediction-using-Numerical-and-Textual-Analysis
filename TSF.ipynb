{
  "nbformat": 4,
  "nbformat_minor": 0,
  "metadata": {
    "colab": {
      "name": "TSF.ipynb",
      "provenance": [],
      "collapsed_sections": [],
      "authorship_tag": "ABX9TyMzsDvpr6e6YCAy/TgLICPL",
      "include_colab_link": true
    },
    "kernelspec": {
      "display_name": "Python 3",
      "name": "python3"
    }
  },
  "cells": [
    {
      "cell_type": "markdown",
      "metadata": {
        "id": "view-in-github",
        "colab_type": "text"
      },
      "source": [
        "<a href=\"https://colab.research.google.com/github/Riyabelle25/Stock-Market-Prediction-using-Numerical-and-Textual-Analysis/blob/main/TSF.ipynb\" target=\"_parent\"><img src=\"https://colab.research.google.com/assets/colab-badge.svg\" alt=\"Open In Colab\"/></a>"
      ]
    },
    {
      "cell_type": "code",
      "metadata": {
        "colab": {
          "resources": {
            "http://localhost:8080/nbextensions/google.colab/files.js": {
              "data": "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",
              "headers": [
                [
                  "content-type",
                  "application/javascript"
                ]
              ],
              "ok": true,
              "status": 200,
              "status_text": ""
            }
          },
          "base_uri": "https://localhost:8080/",
          "height": 73
        },
        "id": "LQayvSEWDWqM",
        "outputId": "8928ff69-7b2f-4634-aad2-8d2d6a63975e"
      },
      "source": [
        "from google.colab import files \r\n",
        "uploaded = files.upload()"
      ],
      "execution_count": null,
      "outputs": [
        {
          "output_type": "display_data",
          "data": {
            "text/html": [
              "\n",
              "     <input type=\"file\" id=\"files-bd344f36-bf2c-4d6f-be09-9f717d0eb23a\" name=\"files[]\" multiple disabled\n",
              "        style=\"border:none\" />\n",
              "     <output id=\"result-bd344f36-bf2c-4d6f-be09-9f717d0eb23a\">\n",
              "      Upload widget is only available when the cell has been executed in the\n",
              "      current browser session. Please rerun this cell to enable.\n",
              "      </output>\n",
              "      <script src=\"/nbextensions/google.colab/files.js\"></script> "
            ],
            "text/plain": [
              "<IPython.core.display.HTML object>"
            ]
          },
          "metadata": {
            "tags": []
          }
        },
        {
          "output_type": "stream",
          "text": [
            "Saving BSESN.csv to BSESN.csv\n"
          ],
          "name": "stdout"
        }
      ]
    },
    {
      "cell_type": "code",
      "metadata": {
        "colab": {
          "resources": {
            "http://localhost:8080/nbextensions/google.colab/files.js": {
              "data": "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",
              "headers": [
                [
                  "content-type",
                  "application/javascript"
                ]
              ],
              "ok": true,
              "status": 200,
              "status_text": ""
            }
          },
          "base_uri": "https://localhost:8080/",
          "height": 73
        },
        "id": "SIQjoODjDzMG",
        "outputId": "72501436-e49d-4a54-a1eb-5882163093c6"
      },
      "source": [
        "from google.colab import files \r\n",
        "uploaded = files.upload()"
      ],
      "execution_count": null,
      "outputs": [
        {
          "output_type": "display_data",
          "data": {
            "text/html": [
              "\n",
              "     <input type=\"file\" id=\"files-bb7b26c3-2a98-4cc2-b05b-46667310f69a\" name=\"files[]\" multiple disabled\n",
              "        style=\"border:none\" />\n",
              "     <output id=\"result-bb7b26c3-2a98-4cc2-b05b-46667310f69a\">\n",
              "      Upload widget is only available when the cell has been executed in the\n",
              "      current browser session. Please rerun this cell to enable.\n",
              "      </output>\n",
              "      <script src=\"/nbextensions/google.colab/files.js\"></script> "
            ],
            "text/plain": [
              "<IPython.core.display.HTML object>"
            ]
          },
          "metadata": {
            "tags": []
          }
        },
        {
          "output_type": "stream",
          "text": [
            "Saving india-news-headlines.csv to india-news-headlines.csv\n"
          ],
          "name": "stdout"
        }
      ]
    },
    {
      "cell_type": "code",
      "metadata": {
        "id": "K44PWQIJCfcx"
      },
      "source": [
        "import pandas as pd\r\n",
        "import numpy as np\r\n",
        "from numpy import concatenate\r\n",
        "from math import sqrt\r\n",
        "import matplotlib.pyplot as plt\r\n",
        "from matplotlib import pyplot\r\n",
        "import seaborn as sns\r\n",
        "sns.set_style('whitegrid')\r\n",
        "plt.style.use(\"fivethirtyeight\")\r\n",
        "%matplotlib inline"
      ],
      "execution_count": 1,
      "outputs": []
    },
    {
      "cell_type": "code",
      "metadata": {
        "colab": {
          "base_uri": "https://localhost:8080/"
        },
        "id": "6v4r-UC33DFm",
        "outputId": "9f9be8b5-8f05-4b54-e1d3-103c342d26c4"
      },
      "source": [
        "import nltk\r\n",
        "import re\r\n",
        "from nltk.corpus import stopwords\r\n",
        "nltk.download('stopwords')\r\n",
        "nltk.download('vader_lexicon')\r\n",
        "from textblob import TextBlob\r\n",
        "from nltk.sentiment.vader import SentimentIntensityAnalyzer\r\n",
        "from nltk.stem.porter import PorterStemmer\r\n",
        "ps = PorterStemmer()\r\n",
        "from sklearn.metrics import mean_squared_error\r\n",
        "from sklearn.model_selection import train_test_split"
      ],
      "execution_count": 2,
      "outputs": [
        {
          "output_type": "stream",
          "text": [
            "[nltk_data] Downloading package stopwords to /root/nltk_data...\n",
            "[nltk_data]   Unzipping corpora/stopwords.zip.\n",
            "[nltk_data] Downloading package vader_lexicon to /root/nltk_data...\n"
          ],
          "name": "stdout"
        },
        {
          "output_type": "stream",
          "text": [
            "/usr/local/lib/python3.6/dist-packages/nltk/twitter/__init__.py:20: UserWarning: The twython library has not been installed. Some functionality from the twitter package will not be available.\n",
            "  warnings.warn(\"The twython library has not been installed. \"\n"
          ],
          "name": "stderr"
        }
      ]
    },
    {
      "cell_type": "code",
      "metadata": {
        "colab": {
          "base_uri": "https://localhost:8080/",
          "height": 407
        },
        "id": "4EUxdUEnEeeJ",
        "outputId": "ab36f6ef-ecd1-4e3f-8bbe-6277bcc2ef0a"
      },
      "source": [
        "df_prices = pd.read_csv('/BSESN.csv')\r\n",
        "df_prices"
      ],
      "execution_count": 8,
      "outputs": [
        {
          "output_type": "execute_result",
          "data": {
            "text/html": [
              "<div>\n",
              "<style scoped>\n",
              "    .dataframe tbody tr th:only-of-type {\n",
              "        vertical-align: middle;\n",
              "    }\n",
              "\n",
              "    .dataframe tbody tr th {\n",
              "        vertical-align: top;\n",
              "    }\n",
              "\n",
              "    .dataframe thead th {\n",
              "        text-align: right;\n",
              "    }\n",
              "</style>\n",
              "<table border=\"1\" class=\"dataframe\">\n",
              "  <thead>\n",
              "    <tr style=\"text-align: right;\">\n",
              "      <th></th>\n",
              "      <th>Date</th>\n",
              "      <th>Open</th>\n",
              "      <th>High</th>\n",
              "      <th>Low</th>\n",
              "      <th>Close</th>\n",
              "      <th>Adj Close</th>\n",
              "      <th>Volume</th>\n",
              "    </tr>\n",
              "  </thead>\n",
              "  <tbody>\n",
              "    <tr>\n",
              "      <th>0</th>\n",
              "      <td>2020-01-14</td>\n",
              "      <td>41883.089844</td>\n",
              "      <td>41994.261719</td>\n",
              "      <td>41770.898438</td>\n",
              "      <td>41952.628906</td>\n",
              "      <td>41952.628906</td>\n",
              "      <td>14100.0</td>\n",
              "    </tr>\n",
              "    <tr>\n",
              "      <th>1</th>\n",
              "      <td>2020-01-15</td>\n",
              "      <td>41969.859375</td>\n",
              "      <td>41969.859375</td>\n",
              "      <td>41648.109375</td>\n",
              "      <td>41872.730469</td>\n",
              "      <td>41872.730469</td>\n",
              "      <td>6100.0</td>\n",
              "    </tr>\n",
              "    <tr>\n",
              "      <th>2</th>\n",
              "      <td>2020-01-16</td>\n",
              "      <td>41924.738281</td>\n",
              "      <td>42059.449219</td>\n",
              "      <td>41812.281250</td>\n",
              "      <td>41932.558594</td>\n",
              "      <td>41932.558594</td>\n",
              "      <td>6600.0</td>\n",
              "    </tr>\n",
              "    <tr>\n",
              "      <th>3</th>\n",
              "      <td>2020-01-17</td>\n",
              "      <td>41929.019531</td>\n",
              "      <td>42063.929688</td>\n",
              "      <td>41850.289063</td>\n",
              "      <td>41945.371094</td>\n",
              "      <td>41945.371094</td>\n",
              "      <td>9500.0</td>\n",
              "    </tr>\n",
              "    <tr>\n",
              "      <th>4</th>\n",
              "      <td>2020-01-20</td>\n",
              "      <td>42263.000000</td>\n",
              "      <td>42273.871094</td>\n",
              "      <td>41503.371094</td>\n",
              "      <td>41528.910156</td>\n",
              "      <td>41528.910156</td>\n",
              "      <td>7500.0</td>\n",
              "    </tr>\n",
              "    <tr>\n",
              "      <th>...</th>\n",
              "      <td>...</td>\n",
              "      <td>...</td>\n",
              "      <td>...</td>\n",
              "      <td>...</td>\n",
              "      <td>...</td>\n",
              "      <td>...</td>\n",
              "      <td>...</td>\n",
              "    </tr>\n",
              "    <tr>\n",
              "      <th>247</th>\n",
              "      <td>2021-01-08</td>\n",
              "      <td>48464.910156</td>\n",
              "      <td>48854.339844</td>\n",
              "      <td>48365.578125</td>\n",
              "      <td>48782.511719</td>\n",
              "      <td>48782.511719</td>\n",
              "      <td>22200.0</td>\n",
              "    </tr>\n",
              "    <tr>\n",
              "      <th>248</th>\n",
              "      <td>2021-01-11</td>\n",
              "      <td>49252.308594</td>\n",
              "      <td>49303.789063</td>\n",
              "      <td>48956.378906</td>\n",
              "      <td>49269.320313</td>\n",
              "      <td>49269.320313</td>\n",
              "      <td>21200.0</td>\n",
              "    </tr>\n",
              "    <tr>\n",
              "      <th>249</th>\n",
              "      <td>2021-01-12</td>\n",
              "      <td>49228.261719</td>\n",
              "      <td>49569.140625</td>\n",
              "      <td>49079.570313</td>\n",
              "      <td>49517.109375</td>\n",
              "      <td>49517.109375</td>\n",
              "      <td>12700.0</td>\n",
              "    </tr>\n",
              "    <tr>\n",
              "      <th>250</th>\n",
              "      <td>2021-01-13</td>\n",
              "      <td>49763.929688</td>\n",
              "      <td>49795.191406</td>\n",
              "      <td>49073.851563</td>\n",
              "      <td>49492.320313</td>\n",
              "      <td>49492.320313</td>\n",
              "      <td>27200.0</td>\n",
              "    </tr>\n",
              "    <tr>\n",
              "      <th>251</th>\n",
              "      <td>2021-01-14</td>\n",
              "      <td>49432.828125</td>\n",
              "      <td>49663.578125</td>\n",
              "      <td>49182.371094</td>\n",
              "      <td>49584.160156</td>\n",
              "      <td>49584.160156</td>\n",
              "      <td>0.0</td>\n",
              "    </tr>\n",
              "  </tbody>\n",
              "</table>\n",
              "<p>252 rows × 7 columns</p>\n",
              "</div>"
            ],
            "text/plain": [
              "           Date          Open  ...     Adj Close   Volume\n",
              "0    2020-01-14  41883.089844  ...  41952.628906  14100.0\n",
              "1    2020-01-15  41969.859375  ...  41872.730469   6100.0\n",
              "2    2020-01-16  41924.738281  ...  41932.558594   6600.0\n",
              "3    2020-01-17  41929.019531  ...  41945.371094   9500.0\n",
              "4    2020-01-20  42263.000000  ...  41528.910156   7500.0\n",
              "..          ...           ...  ...           ...      ...\n",
              "247  2021-01-08  48464.910156  ...  48782.511719  22200.0\n",
              "248  2021-01-11  49252.308594  ...  49269.320313  21200.0\n",
              "249  2021-01-12  49228.261719  ...  49517.109375  12700.0\n",
              "250  2021-01-13  49763.929688  ...  49492.320313  27200.0\n",
              "251  2021-01-14  49432.828125  ...  49584.160156      0.0\n",
              "\n",
              "[252 rows x 7 columns]"
            ]
          },
          "metadata": {
            "tags": []
          },
          "execution_count": 8
        }
      ]
    },
    {
      "cell_type": "code",
      "metadata": {
        "colab": {
          "base_uri": "https://localhost:8080/",
          "height": 464
        },
        "id": "FPIr2r4QdRGu",
        "outputId": "88416468-3f2a-4c65-cc25-2b21870bdebf"
      },
      "source": [
        "cols = ['Date','Category','News']\r\n",
        "df_news = pd.read_csv('india-news-headlines.csv', names = cols)\r\n",
        "df_news"
      ],
      "execution_count": null,
      "outputs": [
        {
          "output_type": "stream",
          "text": [
            "/usr/local/lib/python3.6/dist-packages/IPython/core/interactiveshell.py:2718: DtypeWarning: Columns (0) have mixed types.Specify dtype option on import or set low_memory=False.\n",
            "  interactivity=interactivity, compiler=compiler, result=result)\n"
          ],
          "name": "stderr"
        },
        {
          "output_type": "execute_result",
          "data": {
            "text/html": [
              "<div>\n",
              "<style scoped>\n",
              "    .dataframe tbody tr th:only-of-type {\n",
              "        vertical-align: middle;\n",
              "    }\n",
              "\n",
              "    .dataframe tbody tr th {\n",
              "        vertical-align: top;\n",
              "    }\n",
              "\n",
              "    .dataframe thead th {\n",
              "        text-align: right;\n",
              "    }\n",
              "</style>\n",
              "<table border=\"1\" class=\"dataframe\">\n",
              "  <thead>\n",
              "    <tr style=\"text-align: right;\">\n",
              "      <th></th>\n",
              "      <th>Date</th>\n",
              "      <th>Category</th>\n",
              "      <th>News</th>\n",
              "    </tr>\n",
              "  </thead>\n",
              "  <tbody>\n",
              "    <tr>\n",
              "      <th>0</th>\n",
              "      <td>publish_date</td>\n",
              "      <td>headline_category</td>\n",
              "      <td>headline_text</td>\n",
              "    </tr>\n",
              "    <tr>\n",
              "      <th>1</th>\n",
              "      <td>20010101</td>\n",
              "      <td>sports.wwe</td>\n",
              "      <td>win over cena satisfying but defeating underta...</td>\n",
              "    </tr>\n",
              "    <tr>\n",
              "      <th>2</th>\n",
              "      <td>20010102</td>\n",
              "      <td>unknown</td>\n",
              "      <td>Status quo will not be disturbed at Ayodhya; s...</td>\n",
              "    </tr>\n",
              "    <tr>\n",
              "      <th>3</th>\n",
              "      <td>20010102</td>\n",
              "      <td>unknown</td>\n",
              "      <td>Fissures in Hurriyat over Pak visit</td>\n",
              "    </tr>\n",
              "    <tr>\n",
              "      <th>4</th>\n",
              "      <td>20010102</td>\n",
              "      <td>unknown</td>\n",
              "      <td>America's unwanted heading for India?</td>\n",
              "    </tr>\n",
              "    <tr>\n",
              "      <th>...</th>\n",
              "      <td>...</td>\n",
              "      <td>...</td>\n",
              "      <td>...</td>\n",
              "    </tr>\n",
              "    <tr>\n",
              "      <th>3297168</th>\n",
              "      <td>20200630</td>\n",
              "      <td>gadgets-news</td>\n",
              "      <td>why tiktok removed 1 65 crore videos in india</td>\n",
              "    </tr>\n",
              "    <tr>\n",
              "      <th>3297169</th>\n",
              "      <td>20200630</td>\n",
              "      <td>entertainment.hindi.bollywood</td>\n",
              "      <td>apurva asrani calls alia bhatts mother soni ra...</td>\n",
              "    </tr>\n",
              "    <tr>\n",
              "      <th>3297170</th>\n",
              "      <td>20200630</td>\n",
              "      <td>entertainment.hindi.bollywood</td>\n",
              "      <td>kangana ranaut gets a doll version of herself ...</td>\n",
              "    </tr>\n",
              "    <tr>\n",
              "      <th>3297171</th>\n",
              "      <td>20200630</td>\n",
              "      <td>entertainment.hindi.bollywood</td>\n",
              "      <td>meezaan jaffrey reminisces his childhood days ...</td>\n",
              "    </tr>\n",
              "    <tr>\n",
              "      <th>3297172</th>\n",
              "      <td>20200630</td>\n",
              "      <td>entertainment.telugu.movies.news</td>\n",
              "      <td>prabhas20 titled as radhe shyam prabhas and po...</td>\n",
              "    </tr>\n",
              "  </tbody>\n",
              "</table>\n",
              "<p>3297173 rows × 3 columns</p>\n",
              "</div>"
            ],
            "text/plain": [
              "                 Date  ...                                               News\n",
              "0        publish_date  ...                                      headline_text\n",
              "1            20010101  ...  win over cena satisfying but defeating underta...\n",
              "2            20010102  ...  Status quo will not be disturbed at Ayodhya; s...\n",
              "3            20010102  ...                Fissures in Hurriyat over Pak visit\n",
              "4            20010102  ...              America's unwanted heading for India?\n",
              "...               ...  ...                                                ...\n",
              "3297168      20200630  ...      why tiktok removed 1 65 crore videos in india\n",
              "3297169      20200630  ...  apurva asrani calls alia bhatts mother soni ra...\n",
              "3297170      20200630  ...  kangana ranaut gets a doll version of herself ...\n",
              "3297171      20200630  ...  meezaan jaffrey reminisces his childhood days ...\n",
              "3297172      20200630  ...  prabhas20 titled as radhe shyam prabhas and po...\n",
              "\n",
              "[3297173 rows x 3 columns]"
            ]
          },
          "metadata": {
            "tags": []
          },
          "execution_count": 5
        }
      ]
    },
    {
      "cell_type": "code",
      "metadata": {
        "id": "Tp3NSpsgeMib"
      },
      "source": [
        "df_news.drop(0, inplace=True)\r\n",
        "df_news.drop('Category', axis = 1, inplace=True)"
      ],
      "execution_count": null,
      "outputs": []
    },
    {
      "cell_type": "code",
      "metadata": {
        "colab": {
          "base_uri": "https://localhost:8080/",
          "height": 407
        },
        "id": "PVowb1Qm2ezi",
        "outputId": "11233840-9a63-49d2-c9f8-0d8678164e62"
      },
      "source": [
        "df_news['Date'] = pd.to_datetime(df_news['Date'],format= '%Y%m%d')\r\n",
        "df_prices['Date'] = pd.to_datetime(df_prices['Date'])\r\n",
        "df_prices\r\n"
      ],
      "execution_count": null,
      "outputs": [
        {
          "output_type": "execute_result",
          "data": {
            "text/html": [
              "<div>\n",
              "<style scoped>\n",
              "    .dataframe tbody tr th:only-of-type {\n",
              "        vertical-align: middle;\n",
              "    }\n",
              "\n",
              "    .dataframe tbody tr th {\n",
              "        vertical-align: top;\n",
              "    }\n",
              "\n",
              "    .dataframe thead th {\n",
              "        text-align: right;\n",
              "    }\n",
              "</style>\n",
              "<table border=\"1\" class=\"dataframe\">\n",
              "  <thead>\n",
              "    <tr style=\"text-align: right;\">\n",
              "      <th></th>\n",
              "      <th>Date</th>\n",
              "      <th>Open</th>\n",
              "      <th>High</th>\n",
              "      <th>Low</th>\n",
              "      <th>Close</th>\n",
              "      <th>Adj Close</th>\n",
              "      <th>Volume</th>\n",
              "    </tr>\n",
              "  </thead>\n",
              "  <tbody>\n",
              "    <tr>\n",
              "      <th>0</th>\n",
              "      <td>2020-01-14</td>\n",
              "      <td>41883.089844</td>\n",
              "      <td>41994.261719</td>\n",
              "      <td>41770.898438</td>\n",
              "      <td>41952.628906</td>\n",
              "      <td>41952.628906</td>\n",
              "      <td>14100.0</td>\n",
              "    </tr>\n",
              "    <tr>\n",
              "      <th>1</th>\n",
              "      <td>2020-01-15</td>\n",
              "      <td>41969.859375</td>\n",
              "      <td>41969.859375</td>\n",
              "      <td>41648.109375</td>\n",
              "      <td>41872.730469</td>\n",
              "      <td>41872.730469</td>\n",
              "      <td>6100.0</td>\n",
              "    </tr>\n",
              "    <tr>\n",
              "      <th>2</th>\n",
              "      <td>2020-01-16</td>\n",
              "      <td>41924.738281</td>\n",
              "      <td>42059.449219</td>\n",
              "      <td>41812.281250</td>\n",
              "      <td>41932.558594</td>\n",
              "      <td>41932.558594</td>\n",
              "      <td>6600.0</td>\n",
              "    </tr>\n",
              "    <tr>\n",
              "      <th>3</th>\n",
              "      <td>2020-01-17</td>\n",
              "      <td>41929.019531</td>\n",
              "      <td>42063.929688</td>\n",
              "      <td>41850.289063</td>\n",
              "      <td>41945.371094</td>\n",
              "      <td>41945.371094</td>\n",
              "      <td>9500.0</td>\n",
              "    </tr>\n",
              "    <tr>\n",
              "      <th>4</th>\n",
              "      <td>2020-01-20</td>\n",
              "      <td>42263.000000</td>\n",
              "      <td>42273.871094</td>\n",
              "      <td>41503.371094</td>\n",
              "      <td>41528.910156</td>\n",
              "      <td>41528.910156</td>\n",
              "      <td>7500.0</td>\n",
              "    </tr>\n",
              "    <tr>\n",
              "      <th>...</th>\n",
              "      <td>...</td>\n",
              "      <td>...</td>\n",
              "      <td>...</td>\n",
              "      <td>...</td>\n",
              "      <td>...</td>\n",
              "      <td>...</td>\n",
              "      <td>...</td>\n",
              "    </tr>\n",
              "    <tr>\n",
              "      <th>247</th>\n",
              "      <td>2021-01-08</td>\n",
              "      <td>48464.910156</td>\n",
              "      <td>48854.339844</td>\n",
              "      <td>48365.578125</td>\n",
              "      <td>48782.511719</td>\n",
              "      <td>48782.511719</td>\n",
              "      <td>22200.0</td>\n",
              "    </tr>\n",
              "    <tr>\n",
              "      <th>248</th>\n",
              "      <td>2021-01-11</td>\n",
              "      <td>49252.308594</td>\n",
              "      <td>49303.789063</td>\n",
              "      <td>48956.378906</td>\n",
              "      <td>49269.320313</td>\n",
              "      <td>49269.320313</td>\n",
              "      <td>21200.0</td>\n",
              "    </tr>\n",
              "    <tr>\n",
              "      <th>249</th>\n",
              "      <td>2021-01-12</td>\n",
              "      <td>49228.261719</td>\n",
              "      <td>49569.140625</td>\n",
              "      <td>49079.570313</td>\n",
              "      <td>49517.109375</td>\n",
              "      <td>49517.109375</td>\n",
              "      <td>12700.0</td>\n",
              "    </tr>\n",
              "    <tr>\n",
              "      <th>250</th>\n",
              "      <td>2021-01-13</td>\n",
              "      <td>49763.929688</td>\n",
              "      <td>49795.191406</td>\n",
              "      <td>49073.851563</td>\n",
              "      <td>49492.320313</td>\n",
              "      <td>49492.320313</td>\n",
              "      <td>27200.0</td>\n",
              "    </tr>\n",
              "    <tr>\n",
              "      <th>251</th>\n",
              "      <td>2021-01-14</td>\n",
              "      <td>49432.828125</td>\n",
              "      <td>49663.578125</td>\n",
              "      <td>49182.371094</td>\n",
              "      <td>49584.160156</td>\n",
              "      <td>49584.160156</td>\n",
              "      <td>0.0</td>\n",
              "    </tr>\n",
              "  </tbody>\n",
              "</table>\n",
              "<p>252 rows × 7 columns</p>\n",
              "</div>"
            ],
            "text/plain": [
              "          Date          Open          High  ...         Close     Adj Close   Volume\n",
              "0   2020-01-14  41883.089844  41994.261719  ...  41952.628906  41952.628906  14100.0\n",
              "1   2020-01-15  41969.859375  41969.859375  ...  41872.730469  41872.730469   6100.0\n",
              "2   2020-01-16  41924.738281  42059.449219  ...  41932.558594  41932.558594   6600.0\n",
              "3   2020-01-17  41929.019531  42063.929688  ...  41945.371094  41945.371094   9500.0\n",
              "4   2020-01-20  42263.000000  42273.871094  ...  41528.910156  41528.910156   7500.0\n",
              "..         ...           ...           ...  ...           ...           ...      ...\n",
              "247 2021-01-08  48464.910156  48854.339844  ...  48782.511719  48782.511719  22200.0\n",
              "248 2021-01-11  49252.308594  49303.789063  ...  49269.320313  49269.320313  21200.0\n",
              "249 2021-01-12  49228.261719  49569.140625  ...  49517.109375  49517.109375  12700.0\n",
              "250 2021-01-13  49763.929688  49795.191406  ...  49492.320313  49492.320313  27200.0\n",
              "251 2021-01-14  49432.828125  49663.578125  ...  49584.160156  49584.160156      0.0\n",
              "\n",
              "[252 rows x 7 columns]"
            ]
          },
          "metadata": {
            "tags": []
          },
          "execution_count": 7
        }
      ]
    },
    {
      "cell_type": "code",
      "metadata": {
        "colab": {
          "base_uri": "https://localhost:8080/",
          "height": 407
        },
        "id": "qzI3u7KJ2lVP",
        "outputId": "a24d928e-478c-4da9-ae02-06f94d264260"
      },
      "source": [
        "df_news['News'] = df_news.groupby(['Date']).transform(lambda x : ' '.join(x)) \r\n",
        "df_news = df_news.drop_duplicates() \r\n",
        "df_news.reset_index(inplace = True, drop = True)\r\n",
        "df_news"
      ],
      "execution_count": null,
      "outputs": [
        {
          "output_type": "execute_result",
          "data": {
            "text/html": [
              "<div>\n",
              "<style scoped>\n",
              "    .dataframe tbody tr th:only-of-type {\n",
              "        vertical-align: middle;\n",
              "    }\n",
              "\n",
              "    .dataframe tbody tr th {\n",
              "        vertical-align: top;\n",
              "    }\n",
              "\n",
              "    .dataframe thead th {\n",
              "        text-align: right;\n",
              "    }\n",
              "</style>\n",
              "<table border=\"1\" class=\"dataframe\">\n",
              "  <thead>\n",
              "    <tr style=\"text-align: right;\">\n",
              "      <th></th>\n",
              "      <th>Date</th>\n",
              "      <th>News</th>\n",
              "    </tr>\n",
              "  </thead>\n",
              "  <tbody>\n",
              "    <tr>\n",
              "      <th>0</th>\n",
              "      <td>2001-01-01</td>\n",
              "      <td>win over cena satisfying but defeating underta...</td>\n",
              "    </tr>\n",
              "    <tr>\n",
              "      <th>1</th>\n",
              "      <td>2001-01-02</td>\n",
              "      <td>Status quo will not be disturbed at Ayodhya; s...</td>\n",
              "    </tr>\n",
              "    <tr>\n",
              "      <th>2</th>\n",
              "      <td>2001-01-03</td>\n",
              "      <td>Powerless north India gropes in the dark Think...</td>\n",
              "    </tr>\n",
              "    <tr>\n",
              "      <th>3</th>\n",
              "      <td>2001-01-04</td>\n",
              "      <td>The string that pulled Stephen Hawking to Indi...</td>\n",
              "    </tr>\n",
              "    <tr>\n",
              "      <th>4</th>\n",
              "      <td>2001-01-05</td>\n",
              "      <td>Light combat craft takes India into club class...</td>\n",
              "    </tr>\n",
              "    <tr>\n",
              "      <th>...</th>\n",
              "      <td>...</td>\n",
              "      <td>...</td>\n",
              "    </tr>\n",
              "    <tr>\n",
              "      <th>7075</th>\n",
              "      <td>2020-06-26</td>\n",
              "      <td>Containment zone residents slam high prices ch...</td>\n",
              "    </tr>\n",
              "    <tr>\n",
              "      <th>7076</th>\n",
              "      <td>2020-06-27</td>\n",
              "      <td>like me i wont let you have a toxic relationsh...</td>\n",
              "    </tr>\n",
              "    <tr>\n",
              "      <th>7077</th>\n",
              "      <td>2020-06-28</td>\n",
              "      <td>Atanu Ghosh plans to rewrite old scripts to ma...</td>\n",
              "    </tr>\n",
              "    <tr>\n",
              "      <th>7078</th>\n",
              "      <td>2020-06-29</td>\n",
              "      <td>6 hot and stylish bikini looks of Katrina Kaif...</td>\n",
              "    </tr>\n",
              "    <tr>\n",
              "      <th>7079</th>\n",
              "      <td>2020-06-30</td>\n",
              "      <td>Detective Byomkesh Bakshy! Edge of Tomorrow Fi...</td>\n",
              "    </tr>\n",
              "  </tbody>\n",
              "</table>\n",
              "<p>7080 rows × 2 columns</p>\n",
              "</div>"
            ],
            "text/plain": [
              "           Date                                               News\n",
              "0    2001-01-01  win over cena satisfying but defeating underta...\n",
              "1    2001-01-02  Status quo will not be disturbed at Ayodhya; s...\n",
              "2    2001-01-03  Powerless north India gropes in the dark Think...\n",
              "3    2001-01-04  The string that pulled Stephen Hawking to Indi...\n",
              "4    2001-01-05  Light combat craft takes India into club class...\n",
              "...         ...                                                ...\n",
              "7075 2020-06-26  Containment zone residents slam high prices ch...\n",
              "7076 2020-06-27  like me i wont let you have a toxic relationsh...\n",
              "7077 2020-06-28  Atanu Ghosh plans to rewrite old scripts to ma...\n",
              "7078 2020-06-29  6 hot and stylish bikini looks of Katrina Kaif...\n",
              "7079 2020-06-30  Detective Byomkesh Bakshy! Edge of Tomorrow Fi...\n",
              "\n",
              "[7080 rows x 2 columns]"
            ]
          },
          "metadata": {
            "tags": []
          },
          "execution_count": 8
        }
      ]
    },
    {
      "cell_type": "code",
      "metadata": {
        "id": "4jxMFBGx2qJw"
      },
      "source": [
        "#Cleaning headlines\r\n",
        "c = []\r\n",
        "\r\n",
        "for i in range(0,len(df_news['News'])):\r\n",
        "    news = re.sub('[^a-zA-Z]',' ',df_news['News'][i])\r\n",
        "    news = news.lower()\r\n",
        "    news = news.split()\r\n",
        "    news = [ps.stem(word) for word in news if not word in set(stopwords.words('english'))]\r\n",
        "    print(i)\r\n",
        "    news=' '.join(news)\r\n",
        "    c.append(news)    \r\n",
        "    # news = [word for word in news if word not in set(stopwords.words('english'))]\r\n",
        "    # print(news)\r\n",
        "    # news = []\r\n",
        "    # for w in news: news.append(ps.stem(w))\r\n",
        "    # print(news)\r\n",
        "    # news=' '.join(news)\r\n",
        "    # print(news)\r\n",
        "    # c.append(news)"
      ],
      "execution_count": null,
      "outputs": []
    },
    {
      "cell_type": "code",
      "metadata": {
        "colab": {
          "base_uri": "https://localhost:8080/",
          "height": 536
        },
        "id": "80NywnJy2q6u",
        "outputId": "db137cc7-960d-457c-868f-613c66c3cbdd"
      },
      "source": [
        "df_news['News'] = pd.Series(c)\r\n",
        "df_news"
      ],
      "execution_count": null,
      "outputs": [
        {
          "output_type": "stream",
          "text": [
            "/usr/local/lib/python3.6/dist-packages/ipykernel_launcher.py:1: SettingWithCopyWarning: \n",
            "A value is trying to be set on a copy of a slice from a DataFrame.\n",
            "Try using .loc[row_indexer,col_indexer] = value instead\n",
            "\n",
            "See the caveats in the documentation: https://pandas.pydata.org/pandas-docs/stable/user_guide/indexing.html#returning-a-view-versus-a-copy\n",
            "  \"\"\"Entry point for launching an IPython kernel.\n"
          ],
          "name": "stderr"
        },
        {
          "output_type": "execute_result",
          "data": {
            "text/html": [
              "<div>\n",
              "<style scoped>\n",
              "    .dataframe tbody tr th:only-of-type {\n",
              "        vertical-align: middle;\n",
              "    }\n",
              "\n",
              "    .dataframe tbody tr th {\n",
              "        vertical-align: top;\n",
              "    }\n",
              "\n",
              "    .dataframe thead th {\n",
              "        text-align: right;\n",
              "    }\n",
              "</style>\n",
              "<table border=\"1\" class=\"dataframe\">\n",
              "  <thead>\n",
              "    <tr style=\"text-align: right;\">\n",
              "      <th></th>\n",
              "      <th>Date</th>\n",
              "      <th>News</th>\n",
              "    </tr>\n",
              "  </thead>\n",
              "  <tbody>\n",
              "    <tr>\n",
              "      <th>0</th>\n",
              "      <td>2001-01-01</td>\n",
              "      <td>win cena satisfi defeat undertak bigger roman ...</td>\n",
              "    </tr>\n",
              "    <tr>\n",
              "      <th>1</th>\n",
              "      <td>2001-01-02</td>\n",
              "      <td>statu quo disturb ayodhya say vajpaye fissur h...</td>\n",
              "    </tr>\n",
              "    <tr>\n",
              "      <th>2</th>\n",
              "      <td>2001-01-03</td>\n",
              "      <td>powerless north india grope dark think laxman ...</td>\n",
              "    </tr>\n",
              "    <tr>\n",
              "      <th>3</th>\n",
              "      <td>2001-01-04</td>\n",
              "      <td>string pull stephen hawk india vajpaye give bi...</td>\n",
              "    </tr>\n",
              "    <tr>\n",
              "      <th>4</th>\n",
              "      <td>2001-01-05</td>\n",
              "      <td>light combat craft take india club class hawk ...</td>\n",
              "    </tr>\n",
              "    <tr>\n",
              "      <th>...</th>\n",
              "      <td>...</td>\n",
              "      <td>...</td>\n",
              "    </tr>\n",
              "    <tr>\n",
              "      <th>7075</th>\n",
              "      <td>2020-06-26</td>\n",
              "      <td>contain zone resid slam high price charg veget...</td>\n",
              "    </tr>\n",
              "    <tr>\n",
              "      <th>7076</th>\n",
              "      <td>2020-06-27</td>\n",
              "      <td>like wont let toxic relationship food major ra...</td>\n",
              "    </tr>\n",
              "    <tr>\n",
              "      <th>7077</th>\n",
              "      <td>2020-06-28</td>\n",
              "      <td>atanu ghosh plan rewrit old script make relev ...</td>\n",
              "    </tr>\n",
              "    <tr>\n",
              "      <th>7078</th>\n",
              "      <td>2020-06-29</td>\n",
              "      <td>hot stylish bikini look katrina kaif anna eden...</td>\n",
              "    </tr>\n",
              "    <tr>\n",
              "      <th>7079</th>\n",
              "      <td>2020-06-30</td>\n",
              "      <td>detect byomkesh bakshi edg tomorrow first look...</td>\n",
              "    </tr>\n",
              "  </tbody>\n",
              "</table>\n",
              "<p>7080 rows × 2 columns</p>\n",
              "</div>"
            ],
            "text/plain": [
              "           Date                                               News\n",
              "0    2001-01-01  win cena satisfi defeat undertak bigger roman ...\n",
              "1    2001-01-02  statu quo disturb ayodhya say vajpaye fissur h...\n",
              "2    2001-01-03  powerless north india grope dark think laxman ...\n",
              "3    2001-01-04  string pull stephen hawk india vajpaye give bi...\n",
              "4    2001-01-05  light combat craft take india club class hawk ...\n",
              "...         ...                                                ...\n",
              "7075 2020-06-26  contain zone resid slam high price charg veget...\n",
              "7076 2020-06-27  like wont let toxic relationship food major ra...\n",
              "7077 2020-06-28  atanu ghosh plan rewrit old script make relev ...\n",
              "7078 2020-06-29  hot stylish bikini look katrina kaif anna eden...\n",
              "7079 2020-06-30  detect byomkesh bakshi edg tomorrow first look...\n",
              "\n",
              "[7080 rows x 2 columns]"
            ]
          },
          "metadata": {
            "tags": []
          },
          "execution_count": 11
        }
      ]
    },
    {
      "cell_type": "code",
      "metadata": {
        "id": "9o0yogHo221J"
      },
      "source": [
        "#Functions to get the subjectivity and polarity\r\n",
        "def getSubjectivity(text):\r\n",
        "  return TextBlob(text).sentiment.subjectivity\r\n",
        "\r\n",
        "def getPolarity(text):\r\n",
        "  return  TextBlob(text).sentiment.polarity"
      ],
      "execution_count": null,
      "outputs": []
    },
    {
      "cell_type": "code",
      "metadata": {
        "colab": {
          "base_uri": "https://localhost:8080/",
          "height": 645
        },
        "id": "oHeo3Wgd24i5",
        "outputId": "1496355a-57ab-46cf-e70c-7849bd904d33"
      },
      "source": [
        "#Adding subjectivity and polarity columns\r\n",
        "df_news['Subjectivity'] = df_news['News'].apply(getSubjectivity)\r\n",
        "df_news['Polarity'] = df_news['News'].apply(getPolarity)\r\n",
        "df_news"
      ],
      "execution_count": null,
      "outputs": [
        {
          "output_type": "stream",
          "text": [
            "/usr/local/lib/python3.6/dist-packages/ipykernel_launcher.py:2: SettingWithCopyWarning: \n",
            "A value is trying to be set on a copy of a slice from a DataFrame.\n",
            "Try using .loc[row_indexer,col_indexer] = value instead\n",
            "\n",
            "See the caveats in the documentation: https://pandas.pydata.org/pandas-docs/stable/user_guide/indexing.html#returning-a-view-versus-a-copy\n",
            "  \n",
            "/usr/local/lib/python3.6/dist-packages/ipykernel_launcher.py:3: SettingWithCopyWarning: \n",
            "A value is trying to be set on a copy of a slice from a DataFrame.\n",
            "Try using .loc[row_indexer,col_indexer] = value instead\n",
            "\n",
            "See the caveats in the documentation: https://pandas.pydata.org/pandas-docs/stable/user_guide/indexing.html#returning-a-view-versus-a-copy\n",
            "  This is separate from the ipykernel package so we can avoid doing imports until\n"
          ],
          "name": "stderr"
        },
        {
          "output_type": "execute_result",
          "data": {
            "text/html": [
              "<div>\n",
              "<style scoped>\n",
              "    .dataframe tbody tr th:only-of-type {\n",
              "        vertical-align: middle;\n",
              "    }\n",
              "\n",
              "    .dataframe tbody tr th {\n",
              "        vertical-align: top;\n",
              "    }\n",
              "\n",
              "    .dataframe thead th {\n",
              "        text-align: right;\n",
              "    }\n",
              "</style>\n",
              "<table border=\"1\" class=\"dataframe\">\n",
              "  <thead>\n",
              "    <tr style=\"text-align: right;\">\n",
              "      <th></th>\n",
              "      <th>Date</th>\n",
              "      <th>News</th>\n",
              "      <th>Subjectivity</th>\n",
              "      <th>Polarity</th>\n",
              "    </tr>\n",
              "  </thead>\n",
              "  <tbody>\n",
              "    <tr>\n",
              "      <th>0</th>\n",
              "      <td>2001-01-01</td>\n",
              "      <td>win cena satisfi defeat undertak bigger roman ...</td>\n",
              "      <td>0.450000</td>\n",
              "      <td>0.400000</td>\n",
              "    </tr>\n",
              "    <tr>\n",
              "      <th>1</th>\n",
              "      <td>2001-01-02</td>\n",
              "      <td>statu quo disturb ayodhya say vajpaye fissur h...</td>\n",
              "      <td>0.298148</td>\n",
              "      <td>0.099074</td>\n",
              "    </tr>\n",
              "    <tr>\n",
              "      <th>2</th>\n",
              "      <td>2001-01-03</td>\n",
              "      <td>powerless north india grope dark think laxman ...</td>\n",
              "      <td>0.429167</td>\n",
              "      <td>0.025000</td>\n",
              "    </tr>\n",
              "    <tr>\n",
              "      <th>3</th>\n",
              "      <td>2001-01-04</td>\n",
              "      <td>string pull stephen hawk india vajpaye give bi...</td>\n",
              "      <td>0.475140</td>\n",
              "      <td>0.032481</td>\n",
              "    </tr>\n",
              "    <tr>\n",
              "      <th>4</th>\n",
              "      <td>2001-01-05</td>\n",
              "      <td>light combat craft take india club class hawk ...</td>\n",
              "      <td>0.458412</td>\n",
              "      <td>0.296404</td>\n",
              "    </tr>\n",
              "    <tr>\n",
              "      <th>...</th>\n",
              "      <td>...</td>\n",
              "      <td>...</td>\n",
              "      <td>...</td>\n",
              "      <td>...</td>\n",
              "    </tr>\n",
              "    <tr>\n",
              "      <th>7075</th>\n",
              "      <td>2020-06-26</td>\n",
              "      <td>contain zone resid slam high price charg veget...</td>\n",
              "      <td>0.330257</td>\n",
              "      <td>0.066958</td>\n",
              "    </tr>\n",
              "    <tr>\n",
              "      <th>7076</th>\n",
              "      <td>2020-06-27</td>\n",
              "      <td>like wont let toxic relationship food major ra...</td>\n",
              "      <td>0.372264</td>\n",
              "      <td>0.064784</td>\n",
              "    </tr>\n",
              "    <tr>\n",
              "      <th>7077</th>\n",
              "      <td>2020-06-28</td>\n",
              "      <td>atanu ghosh plan rewrit old script make relev ...</td>\n",
              "      <td>0.378165</td>\n",
              "      <td>0.054209</td>\n",
              "    </tr>\n",
              "    <tr>\n",
              "      <th>7078</th>\n",
              "      <td>2020-06-29</td>\n",
              "      <td>hot stylish bikini look katrina kaif anna eden...</td>\n",
              "      <td>0.373210</td>\n",
              "      <td>0.060782</td>\n",
              "    </tr>\n",
              "    <tr>\n",
              "      <th>7079</th>\n",
              "      <td>2020-06-30</td>\n",
              "      <td>detect byomkesh bakshi edg tomorrow first look...</td>\n",
              "      <td>0.349361</td>\n",
              "      <td>0.059465</td>\n",
              "    </tr>\n",
              "  </tbody>\n",
              "</table>\n",
              "<p>7080 rows × 4 columns</p>\n",
              "</div>"
            ],
            "text/plain": [
              "           Date  ...  Polarity\n",
              "0    2001-01-01  ...  0.400000\n",
              "1    2001-01-02  ...  0.099074\n",
              "2    2001-01-03  ...  0.025000\n",
              "3    2001-01-04  ...  0.032481\n",
              "4    2001-01-05  ...  0.296404\n",
              "...         ...  ...       ...\n",
              "7075 2020-06-26  ...  0.066958\n",
              "7076 2020-06-27  ...  0.064784\n",
              "7077 2020-06-28  ...  0.054209\n",
              "7078 2020-06-29  ...  0.060782\n",
              "7079 2020-06-30  ...  0.059465\n",
              "\n",
              "[7080 rows x 4 columns]"
            ]
          },
          "metadata": {
            "tags": []
          },
          "execution_count": 13
        }
      ]
    },
    {
      "cell_type": "code",
      "metadata": {
        "colab": {
          "background_save": true
        },
        "id": "fkaiMxwe3K09",
        "outputId": "f15adbd5-55ad-442f-927b-1cd421746430"
      },
      "source": [
        "#Adding sentiment score to df_news\r\n",
        "sia = SentimentIntensityAnalyzer()\r\n",
        "\r\n",
        "df_news['Compound'] = [sia.polarity_scores(v)['compound'] for v in df_news['News']]\r\n",
        "df_news['Negative'] = [sia.polarity_scores(v)['neg'] for v in df_news['News']]\r\n",
        "df_news['Neutral'] = [sia.polarity_scores(v)['neu'] for v in df_news['News']]\r\n",
        "df_news['Positive'] = [sia.polarity_scores(v)['pos'] for v in df_news['News']]\r\n",
        "df_news"
      ],
      "execution_count": null,
      "outputs": [
        {
          "output_type": "stream",
          "text": [
            "/usr/local/lib/python3.6/dist-packages/ipykernel_launcher.py:4: SettingWithCopyWarning: \n",
            "A value is trying to be set on a copy of a slice from a DataFrame.\n",
            "Try using .loc[row_indexer,col_indexer] = value instead\n",
            "\n",
            "See the caveats in the documentation: https://pandas.pydata.org/pandas-docs/stable/user_guide/indexing.html#returning-a-view-versus-a-copy\n",
            "  after removing the cwd from sys.path.\n",
            "/usr/local/lib/python3.6/dist-packages/ipykernel_launcher.py:5: SettingWithCopyWarning: \n",
            "A value is trying to be set on a copy of a slice from a DataFrame.\n",
            "Try using .loc[row_indexer,col_indexer] = value instead\n",
            "\n",
            "See the caveats in the documentation: https://pandas.pydata.org/pandas-docs/stable/user_guide/indexing.html#returning-a-view-versus-a-copy\n",
            "  \"\"\"\n",
            "/usr/local/lib/python3.6/dist-packages/ipykernel_launcher.py:6: SettingWithCopyWarning: \n",
            "A value is trying to be set on a copy of a slice from a DataFrame.\n",
            "Try using .loc[row_indexer,col_indexer] = value instead\n",
            "\n",
            "See the caveats in the documentation: https://pandas.pydata.org/pandas-docs/stable/user_guide/indexing.html#returning-a-view-versus-a-copy\n",
            "  \n",
            "/usr/local/lib/python3.6/dist-packages/ipykernel_launcher.py:7: SettingWithCopyWarning: \n",
            "A value is trying to be set on a copy of a slice from a DataFrame.\n",
            "Try using .loc[row_indexer,col_indexer] = value instead\n",
            "\n",
            "See the caveats in the documentation: https://pandas.pydata.org/pandas-docs/stable/user_guide/indexing.html#returning-a-view-versus-a-copy\n",
            "  import sys\n"
          ],
          "name": "stderr"
        },
        {
          "output_type": "execute_result",
          "data": {
            "text/html": [
              "<div>\n",
              "<style scoped>\n",
              "    .dataframe tbody tr th:only-of-type {\n",
              "        vertical-align: middle;\n",
              "    }\n",
              "\n",
              "    .dataframe tbody tr th {\n",
              "        vertical-align: top;\n",
              "    }\n",
              "\n",
              "    .dataframe thead th {\n",
              "        text-align: right;\n",
              "    }\n",
              "</style>\n",
              "<table border=\"1\" class=\"dataframe\">\n",
              "  <thead>\n",
              "    <tr style=\"text-align: right;\">\n",
              "      <th></th>\n",
              "      <th>Date</th>\n",
              "      <th>News</th>\n",
              "      <th>Subjectivity</th>\n",
              "      <th>Polarity</th>\n",
              "      <th>Compound</th>\n",
              "      <th>Negative</th>\n",
              "      <th>Neutral</th>\n",
              "      <th>Positive</th>\n",
              "    </tr>\n",
              "  </thead>\n",
              "  <tbody>\n",
              "    <tr>\n",
              "      <th>0</th>\n",
              "      <td>2001-01-01</td>\n",
              "      <td>win cena satisfi defeat undertak bigger roman ...</td>\n",
              "      <td>0.450000</td>\n",
              "      <td>0.400000</td>\n",
              "      <td>0.2023</td>\n",
              "      <td>0.234</td>\n",
              "      <td>0.469</td>\n",
              "      <td>0.297</td>\n",
              "    </tr>\n",
              "    <tr>\n",
              "      <th>1</th>\n",
              "      <td>2001-01-02</td>\n",
              "      <td>statu quo disturb ayodhya say vajpaye fissur h...</td>\n",
              "      <td>0.298148</td>\n",
              "      <td>0.099074</td>\n",
              "      <td>-0.8555</td>\n",
              "      <td>0.125</td>\n",
              "      <td>0.773</td>\n",
              "      <td>0.102</td>\n",
              "    </tr>\n",
              "    <tr>\n",
              "      <th>2</th>\n",
              "      <td>2001-01-03</td>\n",
              "      <td>powerless north india grope dark think laxman ...</td>\n",
              "      <td>0.429167</td>\n",
              "      <td>0.025000</td>\n",
              "      <td>-0.5994</td>\n",
              "      <td>0.132</td>\n",
              "      <td>0.755</td>\n",
              "      <td>0.113</td>\n",
              "    </tr>\n",
              "    <tr>\n",
              "      <th>3</th>\n",
              "      <td>2001-01-04</td>\n",
              "      <td>string pull stephen hawk india vajpaye give bi...</td>\n",
              "      <td>0.475140</td>\n",
              "      <td>0.032481</td>\n",
              "      <td>0.9169</td>\n",
              "      <td>0.099</td>\n",
              "      <td>0.791</td>\n",
              "      <td>0.110</td>\n",
              "    </tr>\n",
              "    <tr>\n",
              "      <th>4</th>\n",
              "      <td>2001-01-05</td>\n",
              "      <td>light combat craft take india club class hawk ...</td>\n",
              "      <td>0.458412</td>\n",
              "      <td>0.296404</td>\n",
              "      <td>-0.3612</td>\n",
              "      <td>0.171</td>\n",
              "      <td>0.659</td>\n",
              "      <td>0.170</td>\n",
              "    </tr>\n",
              "    <tr>\n",
              "      <th>...</th>\n",
              "      <td>...</td>\n",
              "      <td>...</td>\n",
              "      <td>...</td>\n",
              "      <td>...</td>\n",
              "      <td>...</td>\n",
              "      <td>...</td>\n",
              "      <td>...</td>\n",
              "      <td>...</td>\n",
              "    </tr>\n",
              "    <tr>\n",
              "      <th>7075</th>\n",
              "      <td>2020-06-26</td>\n",
              "      <td>contain zone resid slam high price charg veget...</td>\n",
              "      <td>0.330257</td>\n",
              "      <td>0.066958</td>\n",
              "      <td>-0.9998</td>\n",
              "      <td>0.142</td>\n",
              "      <td>0.789</td>\n",
              "      <td>0.069</td>\n",
              "    </tr>\n",
              "    <tr>\n",
              "      <th>7076</th>\n",
              "      <td>2020-06-27</td>\n",
              "      <td>like wont let toxic relationship food major ra...</td>\n",
              "      <td>0.372264</td>\n",
              "      <td>0.064784</td>\n",
              "      <td>-0.9998</td>\n",
              "      <td>0.139</td>\n",
              "      <td>0.790</td>\n",
              "      <td>0.070</td>\n",
              "    </tr>\n",
              "    <tr>\n",
              "      <th>7077</th>\n",
              "      <td>2020-06-28</td>\n",
              "      <td>atanu ghosh plan rewrit old script make relev ...</td>\n",
              "      <td>0.378165</td>\n",
              "      <td>0.054209</td>\n",
              "      <td>-0.9998</td>\n",
              "      <td>0.136</td>\n",
              "      <td>0.800</td>\n",
              "      <td>0.064</td>\n",
              "    </tr>\n",
              "    <tr>\n",
              "      <th>7078</th>\n",
              "      <td>2020-06-29</td>\n",
              "      <td>hot stylish bikini look katrina kaif anna eden...</td>\n",
              "      <td>0.373210</td>\n",
              "      <td>0.060782</td>\n",
              "      <td>-0.9998</td>\n",
              "      <td>0.130</td>\n",
              "      <td>0.800</td>\n",
              "      <td>0.070</td>\n",
              "    </tr>\n",
              "    <tr>\n",
              "      <th>7079</th>\n",
              "      <td>2020-06-30</td>\n",
              "      <td>detect byomkesh bakshi edg tomorrow first look...</td>\n",
              "      <td>0.349361</td>\n",
              "      <td>0.059465</td>\n",
              "      <td>-0.9999</td>\n",
              "      <td>0.134</td>\n",
              "      <td>0.818</td>\n",
              "      <td>0.048</td>\n",
              "    </tr>\n",
              "  </tbody>\n",
              "</table>\n",
              "<p>7080 rows × 8 columns</p>\n",
              "</div>"
            ],
            "text/plain": [
              "           Date  ... Positive\n",
              "0    2001-01-01  ...    0.297\n",
              "1    2001-01-02  ...    0.102\n",
              "2    2001-01-03  ...    0.113\n",
              "3    2001-01-04  ...    0.110\n",
              "4    2001-01-05  ...    0.170\n",
              "...         ...  ...      ...\n",
              "7075 2020-06-26  ...    0.069\n",
              "7076 2020-06-27  ...    0.070\n",
              "7077 2020-06-28  ...    0.064\n",
              "7078 2020-06-29  ...    0.070\n",
              "7079 2020-06-30  ...    0.048\n",
              "\n",
              "[7080 rows x 8 columns]"
            ]
          },
          "metadata": {
            "tags": []
          },
          "execution_count": 0
        }
      ]
    },
    {
      "cell_type": "code",
      "metadata": {
        "colab": {
          "base_uri": "https://localhost:8080/"
        },
        "id": "3W4nk2yc3LE4",
        "outputId": "ba464d25-b9ac-4e2a-acb3-b2b6e08db669"
      },
      "source": [
        "df_merge = pd.merge(df_prices, df_news, how='inner', on='Date')\r\n",
        "df_merge.drop('Date', axis = 1, inplace=True)\r\n",
        "df_merge.drop('News', axis=1, inplace=True)\r\n",
        "print(df_merge.columns)\r\n",
        "print(len(df_merge))\r\n",
        "print(len(df_prices))\r\n",
        "print(len(df_news))"
      ],
      "execution_count": null,
      "outputs": [
        {
          "output_type": "stream",
          "text": [
            "Index(['Open', 'High', 'Low', 'Close', 'Adj Close', 'Volume', 'Subjectivity',\n",
            "       'Polarity', 'Compound', 'Negative', 'Neutral', 'Positive'],\n",
            "      dtype='object')\n",
            "113\n",
            "252\n",
            "7080\n"
          ],
          "name": "stdout"
        }
      ]
    },
    {
      "cell_type": "code",
      "metadata": {
        "id": "ecrFu9_yTHtH"
      },
      "source": [
        "# convert series to supervised learning\r\n",
        "from pandas import DataFrame as df\r\n",
        "from pandas import concat\r\n",
        "def series_to_supervised(data, n_in=1, n_out=1, dropnan=True):\r\n",
        "\tn_vars = 1 if type(data) is list else data.shape[1]\r\n",
        "\tdf1 = df(data)\r\n",
        "\tcols, names = list(), list()\r\n",
        "\t# input sequence (t-n, ... t-1)\r\n",
        "\tfor i in range(n_in, 0, -1):\r\n",
        "\t\tcols.append(df1.shift(i))\r\n",
        "\t\tnames += [('var%d(t-%d)' % (j+1, i)) for j in range(n_vars)]\r\n",
        "\t# forecast sequence (t, t+1, ... t+n)\r\n",
        "\tfor i in range(0, n_out):\r\n",
        "\t\tcols.append(df1.shift(-i))\r\n",
        "\t\tif i == 0:\r\n",
        "\t\t\tnames += [('var%d(t)' % (j+1)) for j in range(n_vars)]\r\n",
        "\t\telse:\r\n",
        "\t\t\tnames += [('var%d(t+%d)' % (j+1, i)) for j in range(n_vars)]\r\n",
        "\t# put it all together\r\n",
        "\tagg = concat(cols, axis=1)\r\n",
        "\tagg.columns = names\r\n",
        "\t# drop rows with NaN values\r\n",
        "\tif dropnan:\r\n",
        "\t\tagg.dropna(inplace=True)\r\n",
        "\treturn agg"
      ],
      "execution_count": null,
      "outputs": []
    },
    {
      "cell_type": "code",
      "metadata": {
        "colab": {
          "base_uri": "https://localhost:8080/"
        },
        "id": "WfBvsX8mTM1p",
        "outputId": "901ad58a-f63a-47c5-eed7-4054c2b18a84"
      },
      "source": [
        "values = df_merge.values\r\n",
        "values = values.astype('float32')\r\n",
        "# normalize features\r\n",
        "scaler = MinMaxScaler(feature_range=(0, 1))\r\n",
        "scaled = scaler.fit_transform(values)\r\n",
        "# frame as supervised learning\r\n",
        "reframed = series_to_supervised(scaled, 1, 1)\r\n",
        "# drop columns we don't want to predict\r\n",
        "reframed.drop(reframed.columns[[12,13,14,16,17,18,19,20,21,22,23]], axis=1, inplace=True)\r\n",
        "print(reframed.columns)"
      ],
      "execution_count": null,
      "outputs": [
        {
          "output_type": "stream",
          "text": [
            "Index(['var1(t-1)', 'var2(t-1)', 'var3(t-1)', 'var4(t-1)', 'var5(t-1)',\n",
            "       'var6(t-1)', 'var7(t-1)', 'var8(t-1)', 'var9(t-1)', 'var10(t-1)',\n",
            "       'var11(t-1)', 'var12(t-1)', 'var4(t)'],\n",
            "      dtype='object')\n"
          ],
          "name": "stdout"
        }
      ]
    },
    {
      "cell_type": "code",
      "metadata": {
        "colab": {
          "base_uri": "https://localhost:8080/"
        },
        "id": "ze9mGTcBYaxM",
        "outputId": "327fee37-e377-41f4-b31e-dcc52b17847b"
      },
      "source": [
        "# split into train and test sets\r\n",
        "values = reframed.values\r\n",
        "print((values).shape)\r\n",
        "n_train_hours = 90\r\n",
        "train = values[:n_train_hours, :]\r\n",
        "test = values[n_train_hours:, :]\r\n",
        "# split into input and outputs\r\n",
        "train_X, train_y = train[:, :-1], train[:, -1]\r\n",
        "test_X, test_y = test[:, :-1], test[:, -1]\r\n",
        "# reshape input to be 3D [samples, timesteps, features]\r\n",
        "train_X = train_X.reshape((train_X.shape[0], 1, train_X.shape[1]))\r\n",
        "test_X = test_X.reshape((test_X.shape[0], 1, test_X.shape[1]))\r\n",
        "print(train_X.shape, train_y.shape, test_X.shape, test_y.shape)"
      ],
      "execution_count": null,
      "outputs": [
        {
          "output_type": "stream",
          "text": [
            "(112, 13)\n",
            "(90, 1, 12) (90,) (22, 1, 12) (22,)\n"
          ],
          "name": "stdout"
        }
      ]
    },
    {
      "cell_type": "code",
      "metadata": {
        "colab": {
          "base_uri": "https://localhost:8080/",
          "height": 1000
        },
        "id": "W0JIAPYrYbVc",
        "outputId": "ef32e21c-a079-4d48-e10e-c858520ba711"
      },
      "source": [
        "# design network\r\n",
        "model = Sequential()\r\n",
        "model.add(LSTM(50, input_shape=(train_X.shape[1], train_X.shape[2])))\r\n",
        "model.add(Dense(1))\r\n",
        "model.compile(loss='mae', optimizer='adam')\r\n",
        "# fit network\r\n",
        "history = model.fit(train_X, train_y, epochs=50, batch_size=72, validation_data=(test_X, test_y), verbose=2, shuffle=False)\r\n",
        "# plot history\r\n",
        "pyplot.plot(history.history['loss'], label='train')\r\n",
        "pyplot.plot(history.history['val_loss'], label='test')\r\n",
        "pyplot.legend()\r\n",
        "pyplot.show()"
      ],
      "execution_count": null,
      "outputs": [
        {
          "output_type": "stream",
          "text": [
            "Epoch 1/50\n",
            "2/2 - 2s - loss: 0.5565 - val_loss: 0.4873\n",
            "Epoch 2/50\n",
            "2/2 - 0s - loss: 0.5240 - val_loss: 0.4564\n",
            "Epoch 3/50\n",
            "2/2 - 0s - loss: 0.4918 - val_loss: 0.4254\n",
            "Epoch 4/50\n",
            "2/2 - 0s - loss: 0.4597 - val_loss: 0.3943\n",
            "Epoch 5/50\n",
            "2/2 - 0s - loss: 0.4278 - val_loss: 0.3630\n",
            "Epoch 6/50\n",
            "2/2 - 0s - loss: 0.3956 - val_loss: 0.3314\n",
            "Epoch 7/50\n",
            "2/2 - 0s - loss: 0.3637 - val_loss: 0.2995\n",
            "Epoch 8/50\n",
            "2/2 - 0s - loss: 0.3321 - val_loss: 0.2671\n",
            "Epoch 9/50\n",
            "2/2 - 0s - loss: 0.3010 - val_loss: 0.2342\n",
            "Epoch 10/50\n",
            "2/2 - 0s - loss: 0.2699 - val_loss: 0.2008\n",
            "Epoch 11/50\n",
            "2/2 - 0s - loss: 0.2400 - val_loss: 0.1672\n",
            "Epoch 12/50\n",
            "2/2 - 0s - loss: 0.2126 - val_loss: 0.1335\n",
            "Epoch 13/50\n",
            "2/2 - 0s - loss: 0.1900 - val_loss: 0.1012\n",
            "Epoch 14/50\n",
            "2/2 - 0s - loss: 0.1748 - val_loss: 0.0725\n",
            "Epoch 15/50\n",
            "2/2 - 0s - loss: 0.1646 - val_loss: 0.0497\n",
            "Epoch 16/50\n",
            "2/2 - 0s - loss: 0.1573 - val_loss: 0.0342\n",
            "Epoch 17/50\n",
            "2/2 - 0s - loss: 0.1510 - val_loss: 0.0261\n",
            "Epoch 18/50\n",
            "2/2 - 0s - loss: 0.1455 - val_loss: 0.0222\n",
            "Epoch 19/50\n",
            "2/2 - 0s - loss: 0.1405 - val_loss: 0.0209\n",
            "Epoch 20/50\n",
            "2/2 - 0s - loss: 0.1360 - val_loss: 0.0206\n",
            "Epoch 21/50\n",
            "2/2 - 0s - loss: 0.1319 - val_loss: 0.0206\n",
            "Epoch 22/50\n",
            "2/2 - 0s - loss: 0.1281 - val_loss: 0.0211\n",
            "Epoch 23/50\n",
            "2/2 - 0s - loss: 0.1245 - val_loss: 0.0222\n",
            "Epoch 24/50\n",
            "2/2 - 0s - loss: 0.1211 - val_loss: 0.0249\n",
            "Epoch 25/50\n",
            "2/2 - 0s - loss: 0.1179 - val_loss: 0.0286\n",
            "Epoch 26/50\n",
            "2/2 - 0s - loss: 0.1149 - val_loss: 0.0328\n",
            "Epoch 27/50\n",
            "2/2 - 0s - loss: 0.1121 - val_loss: 0.0380\n",
            "Epoch 28/50\n",
            "2/2 - 0s - loss: 0.1098 - val_loss: 0.0432\n",
            "Epoch 29/50\n",
            "2/2 - 0s - loss: 0.1082 - val_loss: 0.0477\n",
            "Epoch 30/50\n",
            "2/2 - 0s - loss: 0.1064 - val_loss: 0.0505\n",
            "Epoch 31/50\n",
            "2/2 - 0s - loss: 0.1043 - val_loss: 0.0510\n",
            "Epoch 32/50\n",
            "2/2 - 0s - loss: 0.1014 - val_loss: 0.0494\n",
            "Epoch 33/50\n",
            "2/2 - 0s - loss: 0.0976 - val_loss: 0.0460\n",
            "Epoch 34/50\n",
            "2/2 - 0s - loss: 0.0932 - val_loss: 0.0417\n",
            "Epoch 35/50\n",
            "2/2 - 0s - loss: 0.0883 - val_loss: 0.0369\n",
            "Epoch 36/50\n",
            "2/2 - 0s - loss: 0.0831 - val_loss: 0.0325\n",
            "Epoch 37/50\n",
            "2/2 - 0s - loss: 0.0779 - val_loss: 0.0288\n",
            "Epoch 38/50\n",
            "2/2 - 0s - loss: 0.0729 - val_loss: 0.0255\n",
            "Epoch 39/50\n",
            "2/2 - 0s - loss: 0.0680 - val_loss: 0.0234\n",
            "Epoch 40/50\n",
            "2/2 - 0s - loss: 0.0632 - val_loss: 0.0225\n",
            "Epoch 41/50\n",
            "2/2 - 0s - loss: 0.0588 - val_loss: 0.0218\n",
            "Epoch 42/50\n",
            "2/2 - 0s - loss: 0.0551 - val_loss: 0.0214\n",
            "Epoch 43/50\n",
            "2/2 - 0s - loss: 0.0527 - val_loss: 0.0213\n",
            "Epoch 44/50\n",
            "2/2 - 0s - loss: 0.0510 - val_loss: 0.0215\n",
            "Epoch 45/50\n",
            "2/2 - 0s - loss: 0.0496 - val_loss: 0.0219\n",
            "Epoch 46/50\n",
            "2/2 - 0s - loss: 0.0486 - val_loss: 0.0226\n",
            "Epoch 47/50\n",
            "2/2 - 0s - loss: 0.0479 - val_loss: 0.0235\n",
            "Epoch 48/50\n",
            "2/2 - 0s - loss: 0.0476 - val_loss: 0.0243\n",
            "Epoch 49/50\n",
            "2/2 - 0s - loss: 0.0473 - val_loss: 0.0249\n",
            "Epoch 50/50\n",
            "2/2 - 0s - loss: 0.0470 - val_loss: 0.0252\n"
          ],
          "name": "stdout"
        },
        {
          "output_type": "display_data",
          "data": {
            "image/png": "[encoded data removed]",
            "text/plain": [
              "<Figure size 432x288 with 1 Axes>"
            ]
          },
          "metadata": {
            "tags": []
          }
        }
      ]
    },
    {
      "cell_type": "code",
      "metadata": {
        "colab": {
          "base_uri": "https://localhost:8080/"
        },
        "id": "JQxDeAx8Ybin",
        "outputId": "650f9cbc-ed3e-4f3f-caf4-46d2762318f6"
      },
      "source": [
        "# make a prediction\r\n",
        "test_X = test_X.reshape((test_X.shape[0], 1, test_X.shape[1]))\r\n",
        "print(test_X.shape)\r\n",
        "yhat = model.predict(test_X)\r\n",
        "test_X = test_X.reshape((test_X.shape[0], test_X.shape[2]))\r\n",
        "# invert scaling for forecast\r\n",
        "inv_yhat = concatenate((yhat, test_X[:, 1:]), axis=1)\r\n",
        "inv_yhat = scaler.inverse_transform(inv_yhat)\r\n",
        "inv_yhat = inv_yhat[:,0]\r\n",
        "# invert scaling for actual\r\n",
        "test_y = test_y.reshape((len(test_y), 1))\r\n",
        "inv_y = concatenate((test_y, test_X[:, 1:]), axis=1)\r\n",
        "inv_y = scaler.inverse_transform(inv_y)\r\n",
        "inv_y = inv_y[:,0]\r\n",
        "# calculate RMSE\r\n",
        "rmse = sqrt(mean_squared_error(inv_y, inv_yhat))\r\n",
        "print('Test RMSE: %.3f' % rmse)\r\n"
      ],
      "execution_count": null,
      "outputs": [
        {
          "output_type": "stream",
          "text": [
            "(22, 1, 12)\n",
            "Test RMSE: 490.562\n"
          ],
          "name": "stdout"
        }
      ]
    },
    {
      "cell_type": "code",
      "metadata": {
        "colab": {
          "base_uri": "https://localhost:8080/",
          "height": 244
        },
        "id": "xGbC_laqcFaS",
        "outputId": "0dd03767-4dd9-473f-f916-a9337429db13"
      },
      "source": [
        "print(((inv_y-inv_yhat)/inv_y)*100)\r\n",
        "y_test = inv_y\r\n",
        "y_test_pred = inv_yhat\r\n",
        "from sklearn.metrics import mean_absolute_error\r\n",
        "print(\"R2 score =\", round(sm.r2_score(y_test, y_test_pred), 2))\r\n",
        "print(\"Mean absolute percentage error =\", round(sm.mean_absolute_percentage_error(y_test, y_test_pred), 2)) \r\n",
        "print(\"Mean squared error =\", round(sm.mean_squared_error(y_test, y_test_pred), 2)) \r\n",
        "print(\"Median absolute error =\", round(sm.median_absolute_error(y_test, y_test_pred), 2)) \r\n",
        "print(\"Explain variance score =\", round(sm.explained_variance_score(y_test, y_test_pred), 2))"
      ],
      "execution_count": null,
      "outputs": [
        {
          "output_type": "error",
          "ename": "NameError",
          "evalue": "ignored",
          "traceback": [
            "\u001b[0;31m---------------------------------------------------------------------------\u001b[0m",
            "\u001b[0;31mNameError\u001b[0m                                 Traceback (most recent call last)",
            "\u001b[0;32m<ipython-input-1-3da44e3d9341>\u001b[0m in \u001b[0;36m<module>\u001b[0;34m()\u001b[0m\n\u001b[0;32m----> 1\u001b[0;31m \u001b[0mprint\u001b[0m\u001b[0;34m(\u001b[0m\u001b[0;34m(\u001b[0m\u001b[0;34m(\u001b[0m\u001b[0minv_y\u001b[0m\u001b[0;34m-\u001b[0m\u001b[0minv_yhat\u001b[0m\u001b[0;34m)\u001b[0m\u001b[0;34m/\u001b[0m\u001b[0minv_y\u001b[0m\u001b[0;34m)\u001b[0m\u001b[0;34m*\u001b[0m\u001b[0;36m100\u001b[0m\u001b[0;34m)\u001b[0m\u001b[0;34m\u001b[0m\u001b[0;34m\u001b[0m\u001b[0m\n\u001b[0m\u001b[1;32m      2\u001b[0m \u001b[0my_test\u001b[0m \u001b[0;34m=\u001b[0m \u001b[0minv_y\u001b[0m\u001b[0;34m\u001b[0m\u001b[0;34m\u001b[0m\u001b[0m\n\u001b[1;32m      3\u001b[0m \u001b[0my_test_pred\u001b[0m \u001b[0;34m=\u001b[0m \u001b[0minv_yhat\u001b[0m\u001b[0;34m\u001b[0m\u001b[0;34m\u001b[0m\u001b[0m\n\u001b[1;32m      4\u001b[0m \u001b[0;32mfrom\u001b[0m \u001b[0msklearn\u001b[0m\u001b[0;34m.\u001b[0m\u001b[0mmetrics\u001b[0m \u001b[0;32mimport\u001b[0m \u001b[0mmean_absolute_error\u001b[0m\u001b[0;34m\u001b[0m\u001b[0;34m\u001b[0m\u001b[0m\n\u001b[1;32m      5\u001b[0m \u001b[0mprint\u001b[0m\u001b[0;34m(\u001b[0m\u001b[0;34m\"R2 score =\"\u001b[0m\u001b[0;34m,\u001b[0m \u001b[0mround\u001b[0m\u001b[0;34m(\u001b[0m\u001b[0msm\u001b[0m\u001b[0;34m.\u001b[0m\u001b[0mr2_score\u001b[0m\u001b[0;34m(\u001b[0m\u001b[0my_test\u001b[0m\u001b[0;34m,\u001b[0m \u001b[0my_test_pred\u001b[0m\u001b[0;34m)\u001b[0m\u001b[0;34m,\u001b[0m \u001b[0;36m2\u001b[0m\u001b[0;34m)\u001b[0m\u001b[0;34m)\u001b[0m\u001b[0;34m\u001b[0m\u001b[0;34m\u001b[0m\u001b[0m\n",
            "\u001b[0;31mNameError\u001b[0m: name 'inv_y' is not defined"
          ]
        }
      ]
    },
    {
      "cell_type": "code",
      "metadata": {
        "colab": {
          "base_uri": "https://localhost:8080/",
          "height": 363
        },
        "id": "C_j_jntHgtWU",
        "outputId": "978003fe-d0ec-4440-a8ee-b812259e037b"
      },
      "source": [
        "!pip install 'scikit-learn==0.24.0'"
      ],
      "execution_count": null,
      "outputs": [
        {
          "output_type": "stream",
          "text": [
            "Collecting scikit-learn==0.24.0\n",
            "\u001b[?25l  Downloading https://files.pythonhosted.org/packages/30/aa/db462d385c56905b731403885454188683f63c86ea68900f6f7e7558b5fa/scikit_learn-0.24.0-cp36-cp36m-manylinux2010_x86_64.whl (22.2MB)\n",
            "\u001b[K     |████████████████████████████████| 22.2MB 4.4MB/s \n",
            "\u001b[?25hRequirement already satisfied: numpy>=1.13.3 in /usr/local/lib/python3.6/dist-packages (from scikit-learn==0.24.0) (1.19.5)\n",
            "Requirement already satisfied: joblib>=0.11 in /usr/local/lib/python3.6/dist-packages (from scikit-learn==0.24.0) (1.0.0)\n",
            "Requirement already satisfied: scipy>=0.19.1 in /usr/local/lib/python3.6/dist-packages (from scikit-learn==0.24.0) (1.4.1)\n",
            "Collecting threadpoolctl>=2.0.0\n",
            "  Downloading https://files.pythonhosted.org/packages/f7/12/ec3f2e203afa394a149911729357aa48affc59c20e2c1c8297a60f33f133/threadpoolctl-2.1.0-py3-none-any.whl\n",
            "Installing collected packages: threadpoolctl, scikit-learn\n",
            "  Found existing installation: scikit-learn 0.22.2.post1\n",
            "    Uninstalling scikit-learn-0.22.2.post1:\n",
            "      Successfully uninstalled scikit-learn-0.22.2.post1\n",
            "Successfully installed scikit-learn-0.24.0 threadpoolctl-2.1.0\n"
          ],
          "name": "stdout"
        },
        {
          "output_type": "display_data",
          "data": {
            "application/vnd.colab-display-data+json": {
              "pip_warning": {
                "packages": [
                  "sklearn"
                ]
              }
            }
          },
          "metadata": {
            "tags": []
          }
        }
      ]
    },
    {
      "cell_type": "markdown",
      "metadata": {
        "id": "1VNcbWHcckS5"
      },
      "source": [
        "Hence we observe RMSE of 490.562, and a maximum of 3% error in test data."
      ]
    }
  ]
}